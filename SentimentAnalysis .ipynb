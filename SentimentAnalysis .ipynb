{
 "cells": [
  {
   "cell_type": "code",
   "execution_count": 33,
   "id": "da8d20b6",
   "metadata": {},
   "outputs": [],
   "source": [
    "# Importing essential libraries\n",
    "import numpy as np\n",
    "import pandas as pd"
   ]
  },
  {
   "cell_type": "code",
   "execution_count": 34,
   "id": "607eb50c",
   "metadata": {},
   "outputs": [],
   "source": [
    "# Loading the dataset\n",
    "df = pd.read_csv('Restaurant_Reviews.tsv', delimiter='\\t', quoting=3)"
   ]
  },
  {
   "cell_type": "code",
   "execution_count": 35,
   "id": "43caf558",
   "metadata": {},
   "outputs": [
    {
     "data": {
      "text/html": [
       "<div>\n",
       "<style scoped>\n",
       "    .dataframe tbody tr th:only-of-type {\n",
       "        vertical-align: middle;\n",
       "    }\n",
       "\n",
       "    .dataframe tbody tr th {\n",
       "        vertical-align: top;\n",
       "    }\n",
       "\n",
       "    .dataframe thead th {\n",
       "        text-align: right;\n",
       "    }\n",
       "</style>\n",
       "<table border=\"1\" class=\"dataframe\">\n",
       "  <thead>\n",
       "    <tr style=\"text-align: right;\">\n",
       "      <th></th>\n",
       "      <th>Review</th>\n",
       "      <th>Liked</th>\n",
       "    </tr>\n",
       "  </thead>\n",
       "  <tbody>\n",
       "    <tr>\n",
       "      <th>0</th>\n",
       "      <td>Wow... Loved this place.</td>\n",
       "      <td>1</td>\n",
       "    </tr>\n",
       "    <tr>\n",
       "      <th>1</th>\n",
       "      <td>Crust is not good.</td>\n",
       "      <td>0</td>\n",
       "    </tr>\n",
       "    <tr>\n",
       "      <th>2</th>\n",
       "      <td>Not tasty and the texture was just nasty.</td>\n",
       "      <td>0</td>\n",
       "    </tr>\n",
       "    <tr>\n",
       "      <th>3</th>\n",
       "      <td>Stopped by during the late May bank holiday of...</td>\n",
       "      <td>1</td>\n",
       "    </tr>\n",
       "    <tr>\n",
       "      <th>4</th>\n",
       "      <td>The selection on the menu was great and so wer...</td>\n",
       "      <td>1</td>\n",
       "    </tr>\n",
       "  </tbody>\n",
       "</table>\n",
       "</div>"
      ],
      "text/plain": [
       "                                              Review  Liked\n",
       "0                           Wow... Loved this place.      1\n",
       "1                                 Crust is not good.      0\n",
       "2          Not tasty and the texture was just nasty.      0\n",
       "3  Stopped by during the late May bank holiday of...      1\n",
       "4  The selection on the menu was great and so wer...      1"
      ]
     },
     "execution_count": 35,
     "metadata": {},
     "output_type": "execute_result"
    }
   ],
   "source": [
    "df.head()"
   ]
  },
  {
   "cell_type": "code",
   "execution_count": 36,
   "id": "3fda27fd",
   "metadata": {},
   "outputs": [
    {
     "data": {
      "text/plain": [
       "(1000, 2)"
      ]
     },
     "execution_count": 36,
     "metadata": {},
     "output_type": "execute_result"
    }
   ],
   "source": [
    "df.shape"
   ]
  },
  {
   "cell_type": "code",
   "execution_count": 37,
   "id": "02e886c6",
   "metadata": {},
   "outputs": [
    {
     "data": {
      "text/plain": [
       "Index(['Review', 'Liked'], dtype='object')"
      ]
     },
     "execution_count": 37,
     "metadata": {},
     "output_type": "execute_result"
    }
   ],
   "source": [
    "df.columns"
   ]
  },
  {
   "cell_type": "markdown",
   "id": "898f8337",
   "metadata": {},
   "source": [
    "## Data Preprocessing"
   ]
  },
  {
   "cell_type": "code",
   "execution_count": 38,
   "id": "9b56e149",
   "metadata": {},
   "outputs": [],
   "source": [
    "import re\n",
    "import nltk\n",
    "from nltk.corpus import stopwords\n",
    "from nltk.stem.porter import PorterStemmer\n",
    "\n",
    "#cleaning the reviews\n",
    "corpus = []\n",
    "for i in range(0, 1000):\n",
    "    review = re.sub('[^a-zA-Z]', ' ', df['Review'][i])\n",
    "    review = review.lower()\n",
    "    review = review.split()\n",
    "    ps = PorterStemmer()\n",
    "    review = [ps.stem(word) for word in review if not word in set(stopwords.words('english'))]\n",
    "    review = ' '.join(review)\n",
    "    corpus.append(review)"
   ]
  },
  {
   "cell_type": "code",
   "execution_count": 39,
   "id": "004cac61",
   "metadata": {},
   "outputs": [
    {
     "data": {
      "text/plain": [
       "['wow love place',\n",
       " 'crust good',\n",
       " 'tasti textur nasti',\n",
       " 'stop late may bank holiday rick steve recommend love',\n",
       " 'select menu great price',\n",
       " 'get angri want damn pho',\n",
       " 'honeslti tast fresh',\n",
       " 'potato like rubber could tell made ahead time kept warmer',\n",
       " 'fri great',\n",
       " 'great touch']"
      ]
     },
     "execution_count": 39,
     "metadata": {},
     "output_type": "execute_result"
    }
   ],
   "source": [
    "corpus[0:10]"
   ]
  },
  {
   "cell_type": "code",
   "execution_count": 40,
   "id": "4881c51a",
   "metadata": {},
   "outputs": [],
   "source": [
    "# Creating the Bag of Words model\n",
    "from sklearn.feature_extraction.text import CountVectorizer\n",
    "cv = CountVectorizer(max_features=1500)\n",
    "X = cv.fit_transform(corpus).toarray()\n",
    "y = df.iloc[:, 1].values"
   ]
  },
  {
   "cell_type": "code",
   "execution_count": 41,
   "id": "55db8d2d",
   "metadata": {},
   "outputs": [],
   "source": [
    "from sklearn.model_selection import train_test_split\n",
    "X_train, X_test, y_train, y_test = train_test_split(X, y, test_size = 0.20, random_state = 0)"
   ]
  },
  {
   "cell_type": "code",
   "execution_count": 42,
   "id": "65ab3383",
   "metadata": {},
   "outputs": [
    {
     "name": "stdout",
     "output_type": "stream",
     "text": [
      "Confusion Matrix:\n",
      " [[72 25]\n",
      " [22 81]]\n"
     ]
    }
   ],
   "source": [
    "# Multinomial NB\n",
    "\n",
    "# Fitting Naive Bayes to the Training set\n",
    "from sklearn.naive_bayes import MultinomialNB\n",
    "classifier = MultinomialNB()\n",
    "classifier.fit(X_train, y_train)\n",
    "\n",
    "# Predicting the Test set results\n",
    "y_pred = classifier.predict(X_test)\n",
    "\n",
    "# Making the Confusion Matrix\n",
    "from sklearn.metrics import confusion_matrix\n",
    "cm = confusion_matrix(y_test, y_pred)\n",
    "print (\"Confusion Matrix:\\n\",cm)"
   ]
  },
  {
   "cell_type": "code",
   "execution_count": 43,
   "id": "1b8eb7db",
   "metadata": {},
   "outputs": [
    {
     "name": "stdout",
     "output_type": "stream",
     "text": [
      "---- Scores ----\n",
      "Accuracy score is: 76.5%\n",
      "Precision score is: 0.76\n",
      "Recall score is: 0.79\n"
     ]
    }
   ],
   "source": [
    "# Accuracy, Precision and Recall\n",
    "from sklearn.metrics import accuracy_score\n",
    "from sklearn.metrics import precision_score\n",
    "from sklearn.metrics import recall_score\n",
    "score1 = accuracy_score(y_test,y_pred)\n",
    "score2 = precision_score(y_test,y_pred)\n",
    "score3= recall_score(y_test,y_pred)\n",
    "print(\"---- Scores ----\")\n",
    "print(\"Accuracy score is: {}%\".format(round(score1*100,2)))\n",
    "print(\"Precision score is: {}\".format(round(score2,2)))\n",
    "print(\"Recall score is: {}\".format(round(score3,2)))"
   ]
  },
  {
   "cell_type": "code",
   "execution_count": 44,
   "id": "500e22c9",
   "metadata": {},
   "outputs": [
    {
     "name": "stdout",
     "output_type": "stream",
     "text": [
      "Confusion Matrix:\n",
      " [[73 24]\n",
      " [21 82]]\n"
     ]
    }
   ],
   "source": [
    "# Bernoulli NB\n",
    "\n",
    "# Fitting Naive Bayes to the Training set\n",
    "from sklearn.naive_bayes import BernoulliNB\n",
    "classifier = BernoulliNB(alpha=0.8)\n",
    "classifier.fit(X_train, y_train)\n",
    "\n",
    "# Predicting the Test set results\n",
    "y_pred = classifier.predict(X_test)\n",
    "\n",
    "# Making the Confusion Matrix\n",
    "from sklearn.metrics import confusion_matrix\n",
    "cm = confusion_matrix(y_test, y_pred)\n",
    "print (\"Confusion Matrix:\\n\",cm)"
   ]
  },
  {
   "cell_type": "code",
   "execution_count": 45,
   "id": "6d505aa4",
   "metadata": {},
   "outputs": [
    {
     "name": "stdout",
     "output_type": "stream",
     "text": [
      "---- Scores ----\n",
      "Accuracy score is: 77.5%\n",
      "Precision score is: 0.77\n",
      "Recall score is: 0.8\n"
     ]
    }
   ],
   "source": [
    "# Accuracy, Precision and Recall\n",
    "from sklearn.metrics import accuracy_score\n",
    "from sklearn.metrics import precision_score\n",
    "from sklearn.metrics import recall_score\n",
    "score1 = accuracy_score(y_test,y_pred)\n",
    "score2 = precision_score(y_test,y_pred)\n",
    "score3= recall_score(y_test,y_pred)\n",
    "\n",
    "print(\"---- Scores ----\")\n",
    "print(\"Accuracy score is: {}%\".format(round(score1*100,2)))\n",
    "print(\"Precision score is: {}\".format(round(score2,2)))\n",
    "print(\"Recall score is: {}\".format(round(score3,2)))"
   ]
  },
  {
   "cell_type": "code",
   "execution_count": 46,
   "id": "82d9823a",
   "metadata": {},
   "outputs": [
    {
     "name": "stdout",
     "output_type": "stream",
     "text": [
      "Confusion Matrix:\n",
      " [[75 22]\n",
      " [34 69]]\n"
     ]
    }
   ],
   "source": [
    "# Logistic Regression\n",
    "\n",
    "# Fitting Logistic Regression to the Training set\n",
    "from sklearn import linear_model\n",
    "classifier = linear_model.LogisticRegression(C=1.5)\n",
    "classifier.fit(X_train, y_train)\n",
    "\n",
    "# Predicting the Test set results\n",
    "y_pred = classifier.predict(X_test)\n",
    "\n",
    "# Making the Confusion Matrix\n",
    "from sklearn.metrics import confusion_matrix\n",
    "cm = confusion_matrix(y_test, y_pred)\n",
    "print (\"Confusion Matrix:\\n\",cm)"
   ]
  },
  {
   "cell_type": "code",
   "execution_count": 47,
   "id": "3c7c672b",
   "metadata": {},
   "outputs": [
    {
     "name": "stdout",
     "output_type": "stream",
     "text": [
      "---- Scores ----\n",
      "Accuracy score is: 72.0%\n",
      "Precision score is: 0.76\n",
      "Recall score is: 0.67\n"
     ]
    }
   ],
   "source": [
    "# Accuracy, Precision and Recall\n",
    "from sklearn.metrics import accuracy_score\n",
    "from sklearn.metrics import precision_score\n",
    "from sklearn.metrics import recall_score\n",
    "score1 = accuracy_score(y_test,y_pred)\n",
    "score2 = precision_score(y_test,y_pred)\n",
    "score3= recall_score(y_test,y_pred)\n",
    "\n",
    "print(\"---- Scores ----\")\n",
    "print(\"Accuracy score is: {}%\".format(round(score1*100,2),\"%\"))\n",
    "print(\"Precision score is: {}\".format(round(score2,2)))\n",
    "print(\"Recall score is: {}\".format(round(score3,2)))"
   ]
  },
  {
   "cell_type": "code",
   "execution_count": 48,
   "id": "6bb773ad",
   "metadata": {},
   "outputs": [
    {
     "name": "stdout",
     "output_type": "stream",
     "text": [
      "Accuracy score for alpha=0.1 is: 78.0%\n",
      "Accuracy score for alpha=0.2 is: 78.5%\n",
      "Accuracy score for alpha=0.3 is: 78.0%\n",
      "Accuracy score for alpha=0.4 is: 78.0%\n",
      "Accuracy score for alpha=0.5 is: 77.5%\n",
      "Accuracy score for alpha=0.6 is: 77.5%\n",
      "Accuracy score for alpha=0.7 is: 77.5%\n",
      "Accuracy score for alpha=0.8 is: 77.0%\n",
      "Accuracy score for alpha=0.9 is: 76.5%\n",
      "Accuracy score for alpha=1.0 is: 76.5%\n",
      "--------------------------------------------\n",
      "The best accuracy is 78.5% with alpha value as 0.2\n"
     ]
    }
   ],
   "source": [
    "# Hyperparameter tuning the Naive Bayes Classifier\n",
    "best_accuracy = 0.0\n",
    "alpha_val = 0.0\n",
    "for i in np.arange(0.1,1.1,0.1):\n",
    "  temp_classifier = MultinomialNB(alpha=i)\n",
    "  temp_classifier.fit(X_train, y_train)\n",
    "  temp_y_pred = temp_classifier.predict(X_test)\n",
    "  score = accuracy_score(y_test, temp_y_pred)\n",
    "  print(\"Accuracy score for alpha={} is: {}%\".format(round(i,1), round(score*100,2)))\n",
    "  if score>best_accuracy:\n",
    "    best_accuracy = score\n",
    "    alpha_val = i\n",
    "print('--------------------------------------------')\n",
    "print('The best accuracy is {}% with alpha value as {}'.format(round(best_accuracy*100, 2), round(alpha_val,1)))"
   ]
  },
  {
   "cell_type": "code",
   "execution_count": 49,
   "id": "c74050e6",
   "metadata": {},
   "outputs": [
    {
     "data": {
      "text/plain": [
       "MultinomialNB(alpha=0.2)"
      ]
     },
     "execution_count": 49,
     "metadata": {},
     "output_type": "execute_result"
    }
   ],
   "source": [
    "classifier = MultinomialNB(alpha=0.2)\n",
    "classifier.fit(X_train, y_train)"
   ]
  },
  {
   "cell_type": "markdown",
   "id": "00185800",
   "metadata": {},
   "source": [
    "## Predictions"
   ]
  },
  {
   "cell_type": "code",
   "execution_count": 50,
   "id": "dfcb264a",
   "metadata": {},
   "outputs": [],
   "source": [
    "def predict_sentiment(sample_review):\n",
    "  sample_review = re.sub(pattern='[^a-zA-Z]',repl=' ', string = sample_review)\n",
    "  sample_review = sample_review.lower()\n",
    "  sample_review_words = sample_review.split()\n",
    "  sample_review_words = [word for word in sample_review_words if not word in set(stopwords.words('english'))]\n",
    "  ps = PorterStemmer()\n",
    "  final_review = [ps.stem(word) for word in sample_review_words]\n",
    "  final_review = ' '.join(final_review)\n",
    "\n",
    "  temp = cv.transform([final_review]).toarray()\n",
    "  return classifier.predict(temp)"
   ]
  },
  {
   "cell_type": "code",
   "execution_count": 51,
   "id": "5b60ccc3",
   "metadata": {},
   "outputs": [
    {
     "name": "stdout",
     "output_type": "stream",
     "text": [
      "This is a POSITIVE review.\n"
     ]
    }
   ],
   "source": [
    "# Predicting values\n",
    "sample_review = 'The food is really good here.'\n",
    "\n",
    "if predict_sentiment(sample_review):\n",
    "  print('This is a POSITIVE review.')\n",
    "else:\n",
    "  print('This is a NEGATIVE review!')"
   ]
  },
  {
   "cell_type": "code",
   "execution_count": 52,
   "id": "c780137e",
   "metadata": {},
   "outputs": [
    {
     "name": "stdout",
     "output_type": "stream",
     "text": [
      "This is a NEGATIVE review!\n"
     ]
    }
   ],
   "source": [
    "# Predicting values\n",
    "sample_review = 'Food was pretty bad and the service was very slow.'\n",
    "\n",
    "if predict_sentiment(sample_review):\n",
    "  print('This is a POSITIVE review.')\n",
    "else:\n",
    "  print('This is a NEGATIVE review!')"
   ]
  },
  {
   "cell_type": "code",
   "execution_count": 53,
   "id": "6ed6e9b1",
   "metadata": {},
   "outputs": [
    {
     "name": "stdout",
     "output_type": "stream",
     "text": [
      "This is a POSITIVE review.\n"
     ]
    }
   ],
   "source": [
    "# Predicting values\n",
    "sample_review = 'The food was absolutely wonderful, from preparation to presentation, very pleasing.'\n",
    "\n",
    "if predict_sentiment(sample_review):\n",
    "  print('This is a POSITIVE review.')\n",
    "else:\n",
    "  print('This is a NEGATIVE review!')"
   ]
  }
 ],
 "metadata": {
  "kernelspec": {
   "display_name": "Python 3 (ipykernel)",
   "language": "python",
   "name": "python3"
  },
  "language_info": {
   "codemirror_mode": {
    "name": "ipython",
    "version": 3
   },
   "file_extension": ".py",
   "mimetype": "text/x-python",
   "name": "python",
   "nbconvert_exporter": "python",
   "pygments_lexer": "ipython3",
   "version": "3.9.12"
  }
 },
 "nbformat": 4,
 "nbformat_minor": 5
}
